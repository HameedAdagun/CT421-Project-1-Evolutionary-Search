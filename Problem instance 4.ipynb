{
 "cells": [
  {
   "cell_type": "code",
   "execution_count": 8,
   "id": "988fec7e",
   "metadata": {},
   "outputs": [
    {
     "name": "stdout",
     "output_type": "stream",
     "text": [
      "{200: 3, 199: 5, 198: 4, 197: 1, 195: 1, 193: 4, 192: 1, 188: 1, 187: 1, 186: 3, 185: 3, 184: 2, 183: 2, 182: 1, 181: 1, 180: 3, 179: 2, 178: 6, 177: 2, 176: 4, 175: 1, 173: 4, 172: 4, 170: 1, 169: 3, 168: 4, 167: 1, 165: 3, 164: 1, 163: 2, 162: 4, 161: 1, 160: 3, 159: 3, 158: 1, 157: 3, 155: 2, 154: 3, 153: 1, 152: 3, 151: 1, 150: 1}\n"
     ]
    }
   ],
   "source": [
    "import numpy as np\n",
    "import matplotlib.pyplot as plt\n",
    "import random\n",
    "import copy\n",
    "\n",
    "# Define the problem instance\n",
    "num_items = 42\n",
    "bin_capacity = 1000\n",
    "mutation_rate = 0.001\n",
    "crossover_rate = 0.6\n",
    "generations = 10\n",
    "\n",
    "item_weights = {\n",
    "    200: 3, 199: 5, 198: 4, 197: 1, 195: 1, 193: 4, 192: 1, 188: 1, 187: 1, 186: 3, \n",
    "    185: 3, 184: 2, 183: 2, 182: 1, 181: 1, 180: 3, 179: 2, 178: 6, 177: 2, 176: 4, \n",
    "    175: 1, 173: 4, 172: 4, 170: 1, 169: 3, 168: 4, 167: 1, 165: 3, 164: 1, 163: 2, \n",
    "    162: 4, 161: 1, 160: 3, 159: 3, 158: 1, 157: 3, 155: 2, 154: 3, 153: 1, 152: 3, \n",
    "    151: 1, 150: 1\n",
    "}\n",
    "\n",
    "print(item_weights)\n",
    "\n",
    "\n",
    "def binary_to_decimal(binary_list):\n",
    "    decimal_list = []\n",
    "    for binary_nums in binary_list:\n",
    "        decimal_nums = []\n",
    "        for binary_num in binary_nums:\n",
    "            if isinstance(binary_num, list):\n",
    "                binary_num = ''.join([str(bit) for bit in binary_num])\n",
    "            decimal_num = int(str(binary_num), 2)\n",
    "            decimal_nums.append(decimal_num)\n",
    "        decimal_list.append(decimal_nums)\n",
    "    return decimal_list\n",
    "\n",
    "def decimal_to_binary(decimal_list):\n",
    "    bits = ''\n",
    "    bits_list = []\n",
    "    for sublist in decimal_list:\n",
    "        sublist_bits = []\n",
    "        for num in sublist:\n",
    "            sublist_bits.append(format(num, '08b'))\n",
    "        bits_list.append(sublist_bits)\n",
    "\n",
    "    binary_list = '[' + ', '.join(['[' + ', '.join(sublist) + ']' for sublist in bits_list]) + ']'\n",
    "    return binary_list\n",
    "    \n",
    "def sum_subsets(subsets):\n",
    "    sums = []\n",
    "    for subset in subsets:\n",
    "        subset_sum = sum(subset)\n",
    "        if subset_sum > bin_capacity:\n",
    "            subset_sum = 0\n",
    "        sums.append(subset_sum)\n",
    "    return sums\n",
    "\n",
    "\n",
    "def mutate_individual(individual, mutation_rate):\n",
    "    mutated_individual = individual.copy()\n",
    "    for i in range(len(individual)):\n",
    "        if random.random() < mutation_rate:\n",
    "            # Flip the bit at position i\n",
    "            mutated_individual[i] = 1 - mutated_individual[i]\n",
    "    return mutated_individual\n",
    "\n",
    "def mutate_population(population, mutation_rate):\n",
    "    mutated_population = []\n",
    "    for individual in population:\n",
    "        mutated_individual = mutate_individual(individual, mutation_rate)\n",
    "        mutated_population.append(mutated_individual)\n",
    "    return mutated_population\n",
    "\n",
    "# Function for crossover\n",
    "def crossover(parent1, parent2):\n",
    "    if np.random.rand() < crossover_rate:\n",
    "        crossover_point = np.random.randint(1, 7)\n",
    "        child1 = np.concatenate((parent1[:crossover_point], parent2[crossover_point:]))\n",
    "        child2 = np.concatenate((parent2[:crossover_point], parent1[crossover_point:]))\n",
    "        return child1, child2\n",
    "    else:\n",
    "        return parent1, parent2"
   ]
  },
  {
   "cell_type": "code",
   "execution_count": 9,
   "id": "6b348fc3",
   "metadata": {},
   "outputs": [],
   "source": [
    "def pick_random_integer():\n",
    "    choices = list(item_weights.keys())\n",
    "    weights = list(item_weights.values())\n",
    "    random_integer = random.choices(choices, weights=weights)[0]\n",
    "    return random_integer\n",
    "\n",
    "def pick_integers():\n",
    "    chosen_integers = []\n",
    "    sublists = [[] for _ in range(num_items)]  # Create 42 empty sublists\n",
    "    for _ in range(len(item_weights)):\n",
    "        random_integer = pick_random_integer()\n",
    "        chosen_integers.append(random_integer)\n",
    "        sublist_index = len(chosen_integers) % num_items  # Determine the index of the sublist\n",
    "        sublists[sublist_index].append(random_integer)  # Append the integer to the corresponding sublist\n",
    "        item_weights[random_integer] -= 1  # Decrease the count of the chosen integer\n",
    "        if item_weights[random_integer] == 0:\n",
    "            del item_weights[random_integer]  # Remove the integer if its count becomes 0\n",
    "            \n",
    "    # Append remaining integers to sublists in sequence\n",
    "    remaining_integers = list(item_weights.keys())\n",
    "    for i, integer in enumerate(remaining_integers):\n",
    "        sublist_index = i % 42\n",
    "        sublists[sublist_index].append(integer)\n",
    "        \n",
    "    return sublists"
   ]
  },
  {
   "cell_type": "code",
   "execution_count": 10,
   "id": "c4908e94",
   "metadata": {},
   "outputs": [
    {
     "name": "stdout",
     "output_type": "stream",
     "text": [
      "Chosen sublists: [[168, 200], [160, 199], [186, 198], [200, 197], [162, 193], [165, 192], [178, 188], [157, 186], [167, 185], [152, 184], [154, 181], [159, 180], [185, 179], [193, 178], [173, 177], [162, 176], [195, 175], [200, 173], [198, 172], [168, 169], [159, 168], [176, 165], [183, 163], [153, 162], [178, 161], [187, 160], [198, 159], [157, 158], [177, 157], [164, 155], [180, 154], [176, 152], [176, 150], [170], [199], [168], [180], [182], [178], [151], [154], [183]]\n"
     ]
    }
   ],
   "source": [
    "chosen_sublists = pick_integers()\n",
    "print(\"Chosen sublists:\", chosen_sublists)\n",
    "\n",
    "# Fuction to calculate fitness\n",
    "def calculate_fitness(population):\n",
    "        indiv_fitness = sum_subsets(population)\n",
    "        return indiv_fitness "
   ]
  },
  {
   "cell_type": "code",
   "execution_count": 11,
   "id": "c77cb66f",
   "metadata": {},
   "outputs": [
    {
     "name": "stdout",
     "output_type": "stream",
     "text": [
      "Bins used: 42\n",
      "Bins used: 31\n",
      "Bins used: 25\n",
      "Bins used: 22\n",
      "Bins used: 21\n",
      "Bins used: 20\n",
      "Bins used: 20\n",
      "Bins used: 20\n",
      "Bins used: 20\n",
      "Bins used: 20\n"
     ]
    }
   ],
   "source": [
    "# Main genetic algorithm loop\n",
    "for generation in range(generations):\n",
    "    fitness_values = calculate_fitness(chosen_sublists)\n",
    "    fitness_bin_history = len(chosen_sublists)\n",
    "    print(\"Bins used: \" + str(fitness_bin_history))\n",
    "    #fitness_bin_history.append(fitness_values)\n",
    "\n",
    "   # Convert fitness values to probabilities\n",
    "    total_fitness = sum(fitness_values)\n",
    "    probabilities = [fitness / total_fitness for fitness in fitness_values]\n",
    "\n",
    "    # Select parents based on fitness\n",
    "    parents_indices = np.random.choice(len(chosen_sublists), size=len(chosen_sublists) // 2, p=probabilities)\n",
    "    parents = [chosen_sublists[i] for i in parents_indices]\n",
    "\n",
    "    # Create next generation through crossover and mutation\n",
    "    children = []\n",
    "    for i in range(0, 5):\n",
    "        child1, child2 = crossover(parents[i], parents[i + 1])\n",
    "        child1 = mutate_individual(child1, mutation_rate)\n",
    "        child2 = mutate_individual(child2, mutation_rate)\n",
    "        children.extend([child1, child2])\n",
    "\n",
    "    chosen_sublists[:len(chosen_sublists) // 2] = parents\n",
    "    chosen_sublists[len(chosen_sublists) // 2:] = children"
   ]
  }
 ],
 "metadata": {
  "kernelspec": {
   "display_name": "Python 3 (ipykernel)",
   "language": "python",
   "name": "python3"
  },
  "language_info": {
   "codemirror_mode": {
    "name": "ipython",
    "version": 3
   },
   "file_extension": ".py",
   "mimetype": "text/x-python",
   "name": "python",
   "nbconvert_exporter": "python",
   "pygments_lexer": "ipython3",
   "version": "3.11.4"
  }
 },
 "nbformat": 4,
 "nbformat_minor": 5
}
