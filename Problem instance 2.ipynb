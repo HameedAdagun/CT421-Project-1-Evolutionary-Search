{
 "cells": [
  {
   "cell_type": "code",
   "execution_count": 40,
   "id": "1be7c3c3",
   "metadata": {},
   "outputs": [],
   "source": [
    "import numpy as np\n",
    "import matplotlib.pyplot as plt\n",
    "import random\n",
    "import copy\n",
    "\n",
    "# Define the problem instance\n",
    "num_items = 47\n",
    "bin_capacity = 1000\n",
    "mutation_rate = 0.001\n",
    "crossover_rate = 0.6\n",
    "generations = 10\n",
    "\n",
    "item_weights = {\n",
    "    200: 2, 199: 4, 198: 1, 197: 1, 196: 2, 195: 2, 194: 2, 193: 1,\n",
    "    191: 2, 190: 1, 189: 2, 188: 1, 187: 2, 186: 1, 185: 2, 184: 5,\n",
    "    183: 1, 182: 1, 181: 3, 180: 2, 179: 2, 178: 1, 176: 1, 175: 2, \n",
    "    174: 5, 173: 1, 172: 3, 171: 1, 170: 4, 169: 2,  168: 1, 167: 5,\n",
    "    165: 2, 164: 2, 163: 3, 162: 2, 160: 2, 159: 2, 158: 2, 157: 4,\n",
    "    156: 3, 155: 2, 154: 1, 153: 3, 152: 2, 151: 2, 150: 2\n",
    "}\n",
    "def binary_to_decimal(binary_list):\n",
    "    decimal_list = []\n",
    "    for binary_nums in binary_list:\n",
    "        decimal_nums = []\n",
    "        for binary_num in binary_nums:\n",
    "            if isinstance(binary_num, list):\n",
    "                binary_num = ''.join([str(bit) for bit in binary_num])\n",
    "            decimal_num = int(str(binary_num), 2)\n",
    "            decimal_nums.append(decimal_num)\n",
    "        decimal_list.append(decimal_nums)\n",
    "    return decimal_list\n",
    "\n",
    "def decimal_to_binary(decimal_list):\n",
    "    bits = ''\n",
    "    bits_list = []\n",
    "    for sublist in decimal_list:\n",
    "        sublist_bits = []\n",
    "        for num in sublist:\n",
    "            sublist_bits.append(format(num, '08b'))\n",
    "        bits_list.append(sublist_bits)\n",
    "\n",
    "    binary_list = '[' + ', '.join(['[' + ', '.join(sublist) + ']' for sublist in bits_list]) + ']'\n",
    "    return binary_list\n",
    "    \n",
    "def sum_subsets(subsets):\n",
    "    sums = []\n",
    "    for subset in subsets:\n",
    "        subset_sum = sum(subset)\n",
    "        if subset_sum > bin_capacity:\n",
    "            subset_sum = 0\n",
    "        sums.append(subset_sum)\n",
    "    return sums\n",
    "\n",
    "\n",
    "def mutate_individual(individual, mutation_rate):\n",
    "    mutated_individual = individual.copy()\n",
    "    for i in range(len(individual)):\n",
    "        if random.random() < mutation_rate:\n",
    "            # Flip the bit at position i\n",
    "            mutated_individual[i] = 1 - mutated_individual[i]\n",
    "    return mutated_individual\n",
    "\n",
    "# Function for crossover\n",
    "def crossover(parent1, parent2):\n",
    "    if np.random.rand() < crossover_rate:\n",
    "        crossover_point = np.random.randint(1, 7)\n",
    "        child1 = np.concatenate((parent1[:crossover_point], parent2[crossover_point:]))\n",
    "        child2 = np.concatenate((parent2[:crossover_point], parent1[crossover_point:]))\n",
    "        return child1, child2\n",
    "    else:\n",
    "        return parent1, parent2"
   ]
  },
  {
   "cell_type": "code",
   "execution_count": 41,
   "id": "7cfb42f3",
   "metadata": {},
   "outputs": [],
   "source": [
    "def pick_random_integer():\n",
    "    choices = list(item_weights.keys())\n",
    "    weights = list(item_weights.values())\n",
    "    random_integer = random.choices(choices, weights=weights)[0]\n",
    "    return random_integer\n",
    "\n",
    "def pick_integers():\n",
    "    chosen_integers = []\n",
    "    sublists = [[] for _ in range(num_items)]  # Create 47 empty sublists\n",
    "    for _ in range(len(item_weights)):\n",
    "        random_integer = pick_random_integer()\n",
    "        chosen_integers.append(random_integer)\n",
    "        sublist_index = len(chosen_integers) % num_items  # Determine the index of the sublist\n",
    "        sublists[sublist_index].append(random_integer)  # Append the integer to the corresponding sublist\n",
    "        item_weights[random_integer] -= 1  # Decrease the count of the chosen integer\n",
    "        if item_weights[random_integer] == 0:\n",
    "            del item_weights[random_integer]  # Remove the integer if its count becomes 0\n",
    "            \n",
    "    # Append remaining integers to sublists in sequence\n",
    "    remaining_integers = list(item_weights.keys())\n",
    "    for i, integer in enumerate(remaining_integers):\n",
    "        sublist_index = i % 47\n",
    "        sublists[sublist_index].append(integer)\n",
    "        \n",
    "    return sublists\n",
    "\n"
   ]
  },
  {
   "cell_type": "code",
   "execution_count": 42,
   "id": "de163b82",
   "metadata": {},
   "outputs": [
    {
     "name": "stdout",
     "output_type": "stream",
     "text": [
      "Chosen sublists: [[170, 196], [179, 195], [200, 190], [163, 189], [183, 188], [159, 187], [174, 185], [156, 184], [174, 181], [181, 180], [164, 178], [175, 175], [199, 174], [184, 173], [184, 172], [163, 171], [172, 170], [191, 169], [165, 168], [179, 167], [158, 165], [156, 164], [180, 163], [194, 160], [153, 158], [199, 157], [152, 156], [198, 155], [191, 154], [187, 153], [189, 152], [196, 151], [197, 150], [185], [162], [170], [169], [162], [182], [176], [199], [194], [200], [193], [186], [159], [199]]\n"
     ]
    }
   ],
   "source": [
    "chosen_sublists = pick_integers()\n",
    "print(\"Chosen sublists:\", chosen_sublists)"
   ]
  },
  {
   "cell_type": "code",
   "execution_count": 43,
   "id": "47b20d0c",
   "metadata": {},
   "outputs": [],
   "source": [
    "# Fuction to calculate fitness\n",
    "def calculate_fitness(population):\n",
    "        indiv_fitness = sum_subsets(population)\n",
    "        return indiv_fitness  "
   ]
  },
  {
   "cell_type": "code",
   "execution_count": 44,
   "id": "203a3deb",
   "metadata": {},
   "outputs": [
    {
     "name": "stdout",
     "output_type": "stream",
     "text": [
      "Bins used: 47\n",
      "Bins used: 33\n",
      "Bins used: 26\n",
      "Bins used: 23\n",
      "Bins used: 21\n",
      "Bins used: 20\n",
      "Bins used: 20\n",
      "Bins used: 20\n",
      "Bins used: 20\n",
      "Bins used: 20\n"
     ]
    }
   ],
   "source": [
    "# Main genetic algorithm loop\n",
    "for generation in range(generations):\n",
    "    fitness_values = calculate_fitness(chosen_sublists)\n",
    "    fitness_bin_history = len(chosen_sublists)\n",
    "    print(\"Bins used: \" + str(fitness_bin_history))\n",
    "    #fitness_bin_history.append(fitness_values)\n",
    "\n",
    "   # Convert fitness values to probabilities\n",
    "    total_fitness = sum(fitness_values)\n",
    "    probabilities = [fitness / total_fitness for fitness in fitness_values]\n",
    "\n",
    "    # Select parents based on fitness\n",
    "    parents_indices = np.random.choice(len(chosen_sublists), size=len(chosen_sublists) // 2, p=probabilities)\n",
    "    parents = [chosen_sublists[i] for i in parents_indices]\n",
    "\n",
    "    # Create next generation through crossover and mutation\n",
    "    children = []\n",
    "    for i in range(0, 5):\n",
    "        child1, child2 = crossover(parents[i], parents[i + 1])\n",
    "        child1 = mutate_individual(child1, mutation_rate)\n",
    "        child2 = mutate_individual(child2, mutation_rate)\n",
    "        children.extend([child1, child2])\n",
    "\n",
    "    chosen_sublists[:len(chosen_sublists) // 2] = parents\n",
    "    chosen_sublists[len(chosen_sublists) // 2:] = children"
   ]
  },
  {
   "cell_type": "code",
   "execution_count": null,
   "id": "94015cef",
   "metadata": {},
   "outputs": [],
   "source": []
  }
 ],
 "metadata": {
  "kernelspec": {
   "display_name": "Python 3 (ipykernel)",
   "language": "python",
   "name": "python3"
  },
  "language_info": {
   "codemirror_mode": {
    "name": "ipython",
    "version": 3
   },
   "file_extension": ".py",
   "mimetype": "text/x-python",
   "name": "python",
   "nbconvert_exporter": "python",
   "pygments_lexer": "ipython3",
   "version": "3.11.4"
  }
 },
 "nbformat": 4,
 "nbformat_minor": 5
}
