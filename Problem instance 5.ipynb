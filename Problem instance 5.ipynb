{
 "cells": [
  {
   "cell_type": "code",
   "execution_count": 4,
   "id": "6f7f4980",
   "metadata": {},
   "outputs": [
    {
     "name": "stdout",
     "output_type": "stream",
     "text": [
      "{200: 5, 199: 2, 198: 2, 197: 2, 196: 1, 195: 3, 194: 2, 193: 2, 192: 4, 191: 2, 190: 4, 188: 3, 187: 2, 186: 2, 185: 1, 184: 1, 183: 1, 182: 1, 181: 3, 180: 1, 178: 3, 177: 2, 176: 2, 174: 1, 173: 1, 172: 1, 171: 3, 168: 2, 167: 1, 165: 1, 164: 1, 163: 1, 162: 3, 161: 3, 160: 3, 159: 2, 158: 3, 157: 3, 156: 2, 155: 5, 154: 3, 153: 3, 151: 5, 150: 2}\n"
     ]
    }
   ],
   "source": [
    "import numpy as np\n",
    "import matplotlib.pyplot as plt\n",
    "import random\n",
    "import copy\n",
    "\n",
    "# Define the problem instance\n",
    "num_items = 44\n",
    "bin_capacity = 1000\n",
    "mutation_rate = 0.001\n",
    "crossover_rate = 0.6\n",
    "generations = 10\n",
    "\n",
    "item_weights = {\n",
    "    200: 5, 199: 2, 198: 2, 197: 2, 196: 1, 195: 3, 194: 2, 193: 2, 192: 4, 191: 2, \n",
    "    190: 4, 188: 3, 187: 2, 186: 2, 185: 1, 184: 1, 183: 1, 182: 1, 181: 3, 180: 1, \n",
    "    178: 3, 177: 2, 176: 2, 174: 1, 173: 1, 172: 1, 171: 3, 168: 2, 167: 1, 165: 1, \n",
    "    164: 1, 163: 1, 162: 3, 161: 3, 160: 3, 159: 2, 158: 3, 157: 3, 156: 2, 155: 5, \n",
    "    154: 3, 153: 3, 151: 5, 150: 2\n",
    "}\n",
    "\n",
    "print(item_weights)\n",
    "\n",
    "\n",
    "def binary_to_decimal(binary_list):\n",
    "    decimal_list = []\n",
    "    for binary_nums in binary_list:\n",
    "        decimal_nums = []\n",
    "        for binary_num in binary_nums:\n",
    "            if isinstance(binary_num, list):\n",
    "                binary_num = ''.join([str(bit) for bit in binary_num])\n",
    "            decimal_num = int(str(binary_num), 2)\n",
    "            decimal_nums.append(decimal_num)\n",
    "        decimal_list.append(decimal_nums)\n",
    "    return decimal_list\n",
    "\n",
    "def decimal_to_binary(decimal_list):\n",
    "    bits = ''\n",
    "    bits_list = []\n",
    "    for sublist in decimal_list:\n",
    "        sublist_bits = []\n",
    "        for num in sublist:\n",
    "            sublist_bits.append(format(num, '08b'))\n",
    "        bits_list.append(sublist_bits)\n",
    "\n",
    "    binary_list = '[' + ', '.join(['[' + ', '.join(sublist) + ']' for sublist in bits_list]) + ']'\n",
    "    return binary_list\n",
    "    \n",
    "def sum_subsets(subsets):\n",
    "    sums = []\n",
    "    for subset in subsets:\n",
    "        subset_sum = sum(subset)\n",
    "        if subset_sum > bin_capacity:\n",
    "            subset_sum = 0\n",
    "        sums.append(subset_sum)\n",
    "    return sums\n",
    "\n",
    "\n",
    "def mutate_individual(individual, mutation_rate):\n",
    "    mutated_individual = individual.copy()\n",
    "    for i in range(len(individual)):\n",
    "        if random.random() < mutation_rate:\n",
    "            # Flip the bit at position i\n",
    "            mutated_individual[i] = 1 - mutated_individual[i]\n",
    "    return mutated_individual\n",
    "\n",
    "def mutate_population(population, mutation_rate):\n",
    "    mutated_population = []\n",
    "    for individual in population:\n",
    "        mutated_individual = mutate_individual(individual, mutation_rate)\n",
    "        mutated_population.append(mutated_individual)\n",
    "    return mutated_population\n",
    "\n",
    "# Function for crossover\n",
    "def crossover(parent1, parent2):\n",
    "    if np.random.rand() < crossover_rate:\n",
    "        crossover_point = np.random.randint(1, 7)\n",
    "        child1 = np.concatenate((parent1[:crossover_point], parent2[crossover_point:]))\n",
    "        child2 = np.concatenate((parent2[:crossover_point], parent1[crossover_point:]))\n",
    "        return child1, child2\n",
    "    else:\n",
    "        return parent1, parent2"
   ]
  },
  {
   "cell_type": "code",
   "execution_count": 5,
   "id": "2c866084",
   "metadata": {},
   "outputs": [],
   "source": [
    "def pick_random_integer():\n",
    "    choices = list(item_weights.keys())\n",
    "    weights = list(item_weights.values())\n",
    "    random_integer = random.choices(choices, weights=weights)[0]\n",
    "    return random_integer\n",
    "\n",
    "def pick_integers():\n",
    "    chosen_integers = []\n",
    "    sublists = [[] for _ in range(num_items)]  # Create 44 empty sublists\n",
    "    for _ in range(len(item_weights)):\n",
    "        random_integer = pick_random_integer()\n",
    "        chosen_integers.append(random_integer)\n",
    "        sublist_index = len(chosen_integers) % num_items  # Determine the index of the sublist\n",
    "        sublists[sublist_index].append(random_integer)  # Append the integer to the corresponding sublist\n",
    "        item_weights[random_integer] -= 1  # Decrease the count of the chosen integer\n",
    "        if item_weights[random_integer] == 0:\n",
    "            del item_weights[random_integer]  # Remove the integer if its count becomes 0\n",
    "            \n",
    "    # Append remaining integers to sublists in sequence\n",
    "    remaining_integers = list(item_weights.keys())\n",
    "    for i, integer in enumerate(remaining_integers):\n",
    "        sublist_index = i % 44\n",
    "        sublists[sublist_index].append(integer)\n",
    "        \n",
    "    return sublists"
   ]
  },
  {
   "cell_type": "code",
   "execution_count": 6,
   "id": "a78151e9",
   "metadata": {},
   "outputs": [
    {
     "name": "stdout",
     "output_type": "stream",
     "text": [
      "Chosen sublists: [[151, 200], [194, 198], [158, 197], [198, 196], [158, 195], [191, 194], [154, 193], [160, 192], [190, 191], [171, 190], [195, 188], [192, 187], [190, 186], [199, 183], [155, 181], [157, 180], [156, 178], [177, 176], [177, 174], [161, 173], [171, 171], [181, 168], [186, 167], [187, 165], [184, 164], [155, 163], [150, 162], [178, 161], [193, 159], [160, 158], [160, 157], [182, 156], [190, 155], [162, 154], [200, 153], [200, 151], [185, 150], [154], [197], [159], [192], [172], [199], [153]]\n"
     ]
    }
   ],
   "source": [
    "chosen_sublists = pick_integers()\n",
    "print(\"Chosen sublists:\", chosen_sublists)\n",
    "\n",
    "# Fuction to calculate fitness\n",
    "def calculate_fitness(population):\n",
    "        indiv_fitness = sum_subsets(population)\n",
    "        return indiv_fitness "
   ]
  },
  {
   "cell_type": "code",
   "execution_count": 7,
   "id": "e2f71316",
   "metadata": {},
   "outputs": [
    {
     "name": "stdout",
     "output_type": "stream",
     "text": [
      "Bins used: 44\n",
      "Bins used: 32\n",
      "Bins used: 26\n",
      "Bins used: 23\n",
      "Bins used: 21\n",
      "Bins used: 20\n",
      "Bins used: 20\n",
      "Bins used: 20\n",
      "Bins used: 20\n",
      "Bins used: 20\n"
     ]
    }
   ],
   "source": [
    "# Main genetic algorithm loop\n",
    "for generation in range(generations):\n",
    "    fitness_values = calculate_fitness(chosen_sublists)\n",
    "    fitness_bin_history = len(chosen_sublists)\n",
    "    print(\"Bins used: \" + str(fitness_bin_history))\n",
    "    #fitness_bin_history.append(fitness_values)\n",
    "\n",
    "   # Convert fitness values to probabilities\n",
    "    total_fitness = sum(fitness_values)\n",
    "    probabilities = [fitness / total_fitness for fitness in fitness_values]\n",
    "\n",
    "    # Select parents based on fitness\n",
    "    parents_indices = np.random.choice(len(chosen_sublists), size=len(chosen_sublists) // 2, p=probabilities)\n",
    "    parents = [chosen_sublists[i] for i in parents_indices]\n",
    "\n",
    "    # Create next generation through crossover and mutation\n",
    "    children = []\n",
    "    for i in range(0, 5):\n",
    "        child1, child2 = crossover(parents[i], parents[i + 1])\n",
    "        child1 = mutate_individual(child1, mutation_rate)\n",
    "        child2 = mutate_individual(child2, mutation_rate)\n",
    "        children.extend([child1, child2])\n",
    "\n",
    "    chosen_sublists[:len(chosen_sublists) // 2] = parents\n",
    "    chosen_sublists[len(chosen_sublists) // 2:] = children"
   ]
  }
 ],
 "metadata": {
  "kernelspec": {
   "display_name": "Python 3 (ipykernel)",
   "language": "python",
   "name": "python3"
  },
  "language_info": {
   "codemirror_mode": {
    "name": "ipython",
    "version": 3
   },
   "file_extension": ".py",
   "mimetype": "text/x-python",
   "name": "python",
   "nbconvert_exporter": "python",
   "pygments_lexer": "ipython3",
   "version": "3.11.4"
  }
 },
 "nbformat": 4,
 "nbformat_minor": 5
}
