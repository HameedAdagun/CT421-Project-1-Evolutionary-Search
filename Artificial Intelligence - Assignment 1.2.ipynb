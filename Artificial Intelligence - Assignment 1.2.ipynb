{
 "cells": [
  {
   "cell_type": "code",
   "execution_count": 1,
   "id": "6d731d48",
   "metadata": {},
   "outputs": [],
   "source": [
    "import numpy as np\n",
    "import matplotlib.pyplot as plt\n",
    "\n",
    "# Parameters\n",
    "pop_size = 500\n",
    "string_length = 30\n",
    "mutation_rate = 0.0001\n",
    "#crossover_rate = 0.7\n",
    "generations = 200\n",
    "target_string = \"110110101010101010101010101010\"\n"
   ]
  },
  {
   "cell_type": "code",
   "execution_count": 2,
   "id": "5def6372",
   "metadata": {},
   "outputs": [],
   "source": [
    "# Function to initialize the population\n",
    "def initialize_population():\n",
    "    return np.random.randint(2, size=(pop_size, string_length))\n",
    "\n",
    "# Function to calculate fitness based on matching values to the target string\n",
    "def calculate_fitness(population):\n",
    "    return np.sum(population == list(map(int, target_string)), axis=1)\n",
    "\n",
    "# Function for mutation\n",
    "def mutate(child):\n",
    "    mutation_mask = np.random.rand(string_length) < mutation_rate\n",
    "    child[mutation_mask] = 1 - child[mutation_mask]\n",
    "    return child\n",
    "\n",
    "# Function for crossover\n",
    "def crossover(parent1, parent2):\n",
    "    crossover_point = np.random.randint(1, string_length)\n",
    "    child1 = np.concatenate((parent1[:crossover_point], parent2[crossover_point:]))\n",
    "    child2 = np.concatenate((parent2[:crossover_point], parent1[crossover_point:]))\n",
    "    return child1, child2"
   ]
  },
  {
   "cell_type": "code",
   "execution_count": 3,
   "id": "61f0dd77",
   "metadata": {},
   "outputs": [],
   "source": [
    "# Main genetic algorithm loop\n",
    "population = initialize_population()\n",
    "fitness_history = []\n",
    "\n",
    "while True:\n",
    "    fitness_values = calculate_fitness(population)\n",
    "    average_fitness = np.mean(fitness_values)\n",
    "    fitness_history.append(average_fitness)\n",
    "    \n",
    "    if average_fitness >= 30:\n",
    "        break\n",
    "\n",
    "    # Select parents based on fitness\n",
    "    parents = population[np.random.choice(pop_size, size=pop_size // 2, p=fitness_values / np.sum(fitness_values))]\n",
    "\n",
    "    # Create next generation through crossover and mutation\n",
    "    children = []\n",
    "    for i in range(0, pop_size // 2, 2):\n",
    "        child1, child2 = crossover(parents[i], parents[i + 1])\n",
    "        child1 = mutate(child1)\n",
    "        child2 = mutate(child2)\n",
    "        children.extend([child1, child2])\n",
    "\n",
    "    population[:pop_size // 2] = parents\n",
    "    population[pop_size // 2:] = children\n"
   ]
  },
  {
   "cell_type": "code",
   "execution_count": 4,
   "id": "aae07f63",
   "metadata": {},
   "outputs": [],
   "source": [
    "# Set the desired number of decimal places (e.g., 2 in this case)\n",
    "decimal_places = 5\n",
    "\n",
    "# Create a format string with the desired precision\n",
    "format_string = f'%.{decimal_places}f'\n",
    "\n",
    "# Convert to strings with the specified precision\n",
    "fitness_history = [format_string % num for num in fitness_history]\n",
    "\n",
    "# Save to a text file\n",
    "np.savetxt('fitness_history_target_string.txt', fitness_history, fmt='%s')"
   ]
  },
  {
   "cell_type": "code",
   "execution_count": null,
   "id": "ce62fc03",
   "metadata": {},
   "outputs": [],
   "source": []
  }
 ],
 "metadata": {
  "kernelspec": {
   "display_name": "Python 3 (ipykernel)",
   "language": "python",
   "name": "python3"
  },
  "language_info": {
   "codemirror_mode": {
    "name": "ipython",
    "version": 3
   },
   "file_extension": ".py",
   "mimetype": "text/x-python",
   "name": "python",
   "nbconvert_exporter": "python",
   "pygments_lexer": "ipython3",
   "version": "3.11.4"
  }
 },
 "nbformat": 4,
 "nbformat_minor": 5
}
